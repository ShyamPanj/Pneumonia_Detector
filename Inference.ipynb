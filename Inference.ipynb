{
 "cells": [
  {
   "cell_type": "code",
   "execution_count": 1,
   "metadata": {},
   "outputs": [
    {
     "name": "stderr",
     "output_type": "stream",
     "text": [
      "Using TensorFlow backend.\n"
     ]
    }
   ],
   "source": [
    "import numpy as np\n",
    "import pandas as pd\n",
    "import pydicom\n",
    "%matplotlib inline\n",
    "import matplotlib.pyplot as plt\n",
    "import keras \n",
    "from keras.models import model_from_json\n",
    "from skimage import data, color\n",
    "from skimage.transform import rescale, resize, downscale_local_mean"
   ]
  },
  {
   "cell_type": "code",
   "execution_count": 10,
   "metadata": {},
   "outputs": [],
   "source": [
    "# This function reads in a .dcm file, checks the important fields for our device, and returns a numpy array\n",
    "# of just the imaging data\n",
    "def check_dicom(filename): \n",
    "    ds = pydicom.dcmread(filename) \n",
    "    print('Load file {} ...'.format(filename))\n",
    "    if (ds.BodyPartExamined=='CHEST') and ((int(ds.PatientAge)<100) or (int(ds.PatientAge)>0))and (ds.PatientPosition in ['PA','AP']):\n",
    "        img = ds.pixel_array\n",
    "        return img\n",
    "    else:\n",
    "         print('Wrong enties in {}. Cant be used for modeling'.format(filename))\n",
    "        \n",
    "    \n",
    "# This function takes the numpy array output by check_dicom and \n",
    "# runs the appropriate pre-processing needed for our model input\n",
    "def preprocess_image(img,img_mean,img_std,img_size): \n",
    "    \n",
    "    proc_img=(img-img_mean)/img_std\n",
    "    r,c=img.shape\n",
    "    ctr=(r/2-1,c/2-1)\n",
    "    proc_img=img[int(ctr[0]-img_size[1]/2):int(ctr[0]+img_size[1]/2),int(ctr[1]-img_size[2]/2):int(ctr[1]+img_size[2]/2)]\n",
    "    proc_img = color.gray2rgb(proc_img)\n",
    "    proc_img=proc_img.reshape(img_size)\n",
    "    return proc_img\n",
    "\n",
    "# This function loads in our trained model w/ weights and compiles it \n",
    "def load_model(model_path, weight_path):\n",
    "    file=open(model_path,'r')\n",
    "    model=model_from_json(file.read())\n",
    "    \n",
    "    file.close()\n",
    "    model.load_weights(weight_path)\n",
    "    #'Pneumonia_my_model.best.hdf5'\n",
    "    #'my_model.json'\n",
    "    \n",
    "    return model\n",
    "\n",
    "# This function uses our device's threshold parameters to predict whether or not\n",
    "# the image shows the presence of pneumonia using our trained model\n",
    "def predict_image(model, img, thresh): \n",
    "    # todo \n",
    "    pred_y=model.predict(img)\n",
    "    if pred_y>thresh:\n",
    "        prediction='Model predicts that the patient has Pneumonia'\n",
    "    else:\n",
    "        prediction='Model predicts that the patient doesnt have Pneumonia'\n",
    "    return prediction "
   ]
  },
  {
   "cell_type": "code",
   "execution_count": 11,
   "metadata": {},
   "outputs": [
    {
     "name": "stdout",
     "output_type": "stream",
     "text": [
      "Load file test1.dcm ...\n",
      "Model predicts that the patient doesnt have Pneumonia\n",
      "Load file test2.dcm ...\n",
      "Model predicts that the patient doesnt have Pneumonia\n",
      "Load file test3.dcm ...\n",
      "Model predicts that the patient doesnt have Pneumonia\n",
      "Load file test4.dcm ...\n",
      "Wrong enties in test4.dcm. Cant be used for modeling\n",
      "Load file test5.dcm ...\n",
      "Model predicts that the patient doesnt have Pneumonia\n",
      "Load file test6.dcm ...\n",
      "Wrong enties in test6.dcm. Cant be used for modeling\n"
     ]
    }
   ],
   "source": [
    "test_dicoms = ['test1.dcm','test2.dcm','test3.dcm','test4.dcm','test5.dcm','test6.dcm']\n",
    "\n",
    "model_path = 'my_model_final.json'\n",
    "weight_path = 'Pneumonia_my_model.best_final.hdf5'\n",
    "\n",
    "IMG_SIZE=(1,224,224,3) \n",
    "img_mean =0 # During training,model without mean centered images performed better on validation set; hence images were not mean cenetere\n",
    "img_std = 1# During training,images were not divided by standard deviation\n",
    "\n",
    "my_model = load_model(model_path, weight_path) #loads model\n",
    "thresh = 0.20591968 #loads the threshold they chose for model classification \n",
    "\n",
    "# use the .dcm files to test your prediction\n",
    "for i in test_dicoms:\n",
    "    \n",
    "    img = np.array([])\n",
    "    img = check_dicom(i)\n",
    "    \n",
    "    if img is None:\n",
    "        continue\n",
    "        \n",
    "    img_proc = preprocess_image(img,img_mean,img_std,IMG_SIZE)\n",
    "    pred = predict_image(my_model,img_proc,thresh)\n",
    "    print(pred)"
   ]
  },
  {
   "cell_type": "code",
   "execution_count": null,
   "metadata": {},
   "outputs": [],
   "source": []
  }
 ],
 "metadata": {
  "kernelspec": {
   "display_name": "Python 3",
   "language": "python",
   "name": "python3"
  },
  "language_info": {
   "codemirror_mode": {
    "name": "ipython",
    "version": 3
   },
   "file_extension": ".py",
   "mimetype": "text/x-python",
   "name": "python",
   "nbconvert_exporter": "python",
   "pygments_lexer": "ipython3",
   "version": "3.7.6"
  }
 },
 "nbformat": 4,
 "nbformat_minor": 2
}
